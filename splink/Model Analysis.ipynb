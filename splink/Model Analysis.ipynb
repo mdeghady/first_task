{
 "cells": [
  {
   "cell_type": "code",
   "execution_count": 1,
   "metadata": {},
   "outputs": [],
   "source": [
    "from splink import DuckDBAPI, block_on\n",
    "from splink.blocking_analysis import count_comparisons_from_blocking_rule\n",
    "from splink import Linker\n",
    "\n",
    "import pandas as pd\n",
    "import json"
   ]
  },
  {
   "cell_type": "markdown",
   "metadata": {},
   "source": [
    "## Importing Datasets"
   ]
  },
  {
   "cell_type": "code",
   "execution_count": 2,
   "metadata": {},
   "outputs": [],
   "source": [
    "df_dbusa = pd.read_csv(\"dbusa_presentation_202410302126.csv\",\n",
    "                       dtype={\"zip_code\" : str})\n",
    "df_reonomy = pd.read_csv(\"reonomy_presentation_202410302125.csv\",\n",
    "                       dtype={\"zip_code\" : str})"
   ]
  },
  {
   "cell_type": "markdown",
   "metadata": {},
   "source": [
    "## Loading the model"
   ]
  },
  {
   "cell_type": "code",
   "execution_count": 3,
   "metadata": {},
   "outputs": [],
   "source": [
    "with open(\"state_only_blocking_model.json\") as f:\n",
    "  settings = json.load(f)\n",
    "\n",
    "linker = Linker([df_dbusa , df_reonomy], settings, db_api=DuckDBAPI(connection=\":temporary:\"))"
   ]
  },
  {
   "cell_type": "markdown",
   "metadata": {},
   "source": [
    "### Creating Predictions"
   ]
  },
  {
   "cell_type": "code",
   "execution_count": 4,
   "metadata": {},
   "outputs": [
    {
     "name": "stderr",
     "output_type": "stream",
     "text": [
      "Blocking time: 90.53 seconds\n",
      "Predict time: 507.39 seconds\n"
     ]
    }
   ],
   "source": [
    "df_predictions = linker.inference.predict(threshold_match_probability=0.2)"
   ]
  },
  {
   "cell_type": "markdown",
   "metadata": {},
   "source": [
    "## Start Combining Similar Clusters"
   ]
  },
  {
   "cell_type": "code",
   "execution_count": 21,
   "metadata": {},
   "outputs": [
    {
     "name": "stderr",
     "output_type": "stream",
     "text": [
      "Completed iteration 1, num representatives needing updating: 11974\n",
      "Completed iteration 2, num representatives needing updating: 162\n",
      "Completed iteration 3, num representatives needing updating: 0\n"
     ]
    }
   ],
   "source": [
    "clusters = linker.clustering.cluster_pairwise_predictions_at_threshold(\n",
    "    df_predictions, threshold_match_probability=0.05\n",
    ")"
   ]
  },
  {
   "cell_type": "code",
   "execution_count": 27,
   "metadata": {},
   "outputs": [],
   "source": [
    "clusters_df = clusters.as_pandas_dataframe()"
   ]
  },
  {
   "cell_type": "code",
   "execution_count": null,
   "metadata": {},
   "outputs": [
    {
     "data": {
      "text/plain": [
       "757"
      ]
     },
     "execution_count": 28,
     "metadata": {},
     "output_type": "execute_result"
    }
   ],
   "source": [
    "\"\"\"\n",
    "Check the number of the clusters and it's 757 clusters\n",
    "\"\"\"\n",
    "clusters_df[\"cluster_id\"].nunique()"
   ]
  },
  {
   "cell_type": "markdown",
   "metadata": {},
   "source": [
    "## Top 10 Clusters by size"
   ]
  },
  {
   "cell_type": "code",
   "execution_count": 29,
   "metadata": {},
   "outputs": [],
   "source": [
    "cluster_by_size = clusters_df.groupby(\"cluster_id\")\\\n",
    "                    .size().sort_values(ascending=False)\\\n",
    "                    .reset_index(name=\"cluster_size\")\n",
    "\n"
   ]
  },
  {
   "cell_type": "code",
   "execution_count": 30,
   "metadata": {},
   "outputs": [
    {
     "data": {
      "text/html": [
       "<div>\n",
       "<style scoped>\n",
       "    .dataframe tbody tr th:only-of-type {\n",
       "        vertical-align: middle;\n",
       "    }\n",
       "\n",
       "    .dataframe tbody tr th {\n",
       "        vertical-align: top;\n",
       "    }\n",
       "\n",
       "    .dataframe thead th {\n",
       "        text-align: right;\n",
       "    }\n",
       "</style>\n",
       "<table border=\"1\" class=\"dataframe\">\n",
       "  <thead>\n",
       "    <tr style=\"text-align: right;\">\n",
       "      <th></th>\n",
       "      <th>cluster_id</th>\n",
       "      <th>cluster_size</th>\n",
       "    </tr>\n",
       "  </thead>\n",
       "  <tbody>\n",
       "    <tr>\n",
       "      <th>0</th>\n",
       "      <td>__splink__input_table_0-__-11132541471303</td>\n",
       "      <td>17431</td>\n",
       "    </tr>\n",
       "    <tr>\n",
       "      <th>1</th>\n",
       "      <td>__splink__input_table_0-__-11132541477159</td>\n",
       "      <td>13204</td>\n",
       "    </tr>\n",
       "    <tr>\n",
       "      <th>2</th>\n",
       "      <td>__splink__input_table_0-__-11132541469754</td>\n",
       "      <td>10668</td>\n",
       "    </tr>\n",
       "    <tr>\n",
       "      <th>3</th>\n",
       "      <td>__splink__input_table_0-__-11132541473668</td>\n",
       "      <td>10506</td>\n",
       "    </tr>\n",
       "    <tr>\n",
       "      <th>4</th>\n",
       "      <td>__splink__input_table_0-__-11132541470472</td>\n",
       "      <td>6892</td>\n",
       "    </tr>\n",
       "    <tr>\n",
       "      <th>5</th>\n",
       "      <td>__splink__input_table_0-__-11132541473280</td>\n",
       "      <td>5411</td>\n",
       "    </tr>\n",
       "    <tr>\n",
       "      <th>6</th>\n",
       "      <td>__splink__input_table_0-__-11132541476336</td>\n",
       "      <td>5300</td>\n",
       "    </tr>\n",
       "    <tr>\n",
       "      <th>7</th>\n",
       "      <td>__splink__input_table_0-__-11132541472391</td>\n",
       "      <td>4619</td>\n",
       "    </tr>\n",
       "    <tr>\n",
       "      <th>8</th>\n",
       "      <td>__splink__input_table_0-__-11132541473850</td>\n",
       "      <td>4323</td>\n",
       "    </tr>\n",
       "    <tr>\n",
       "      <th>9</th>\n",
       "      <td>__splink__input_table_0-__-11132541470534</td>\n",
       "      <td>4211</td>\n",
       "    </tr>\n",
       "  </tbody>\n",
       "</table>\n",
       "</div>"
      ],
      "text/plain": [
       "                                  cluster_id  cluster_size\n",
       "0  __splink__input_table_0-__-11132541471303         17431\n",
       "1  __splink__input_table_0-__-11132541477159         13204\n",
       "2  __splink__input_table_0-__-11132541469754         10668\n",
       "3  __splink__input_table_0-__-11132541473668         10506\n",
       "4  __splink__input_table_0-__-11132541470472          6892\n",
       "5  __splink__input_table_0-__-11132541473280          5411\n",
       "6  __splink__input_table_0-__-11132541476336          5300\n",
       "7  __splink__input_table_0-__-11132541472391          4619\n",
       "8  __splink__input_table_0-__-11132541473850          4323\n",
       "9  __splink__input_table_0-__-11132541470534          4211"
      ]
     },
     "execution_count": 30,
     "metadata": {},
     "output_type": "execute_result"
    }
   ],
   "source": [
    "cluster_by_size.head(10)"
   ]
  },
  {
   "cell_type": "code",
   "execution_count": 37,
   "metadata": {},
   "outputs": [
    {
     "data": {
      "text/html": [
       "<div>\n",
       "<style scoped>\n",
       "    .dataframe tbody tr th:only-of-type {\n",
       "        vertical-align: middle;\n",
       "    }\n",
       "\n",
       "    .dataframe tbody tr th {\n",
       "        vertical-align: top;\n",
       "    }\n",
       "\n",
       "    .dataframe thead th {\n",
       "        text-align: right;\n",
       "    }\n",
       "</style>\n",
       "<table border=\"1\" class=\"dataframe\">\n",
       "  <thead>\n",
       "    <tr style=\"text-align: right;\">\n",
       "      <th></th>\n",
       "      <th>cluster_id</th>\n",
       "      <th>property_id</th>\n",
       "      <th>state</th>\n",
       "      <th>county</th>\n",
       "      <th>city</th>\n",
       "      <th>address</th>\n",
       "      <th>zip_code</th>\n",
       "      <th>source_dataset</th>\n",
       "    </tr>\n",
       "  </thead>\n",
       "  <tbody>\n",
       "    <tr>\n",
       "      <th>35879</th>\n",
       "      <td>__splink__input_table_0-__-11132541471303</td>\n",
       "      <td>11132549603855</td>\n",
       "      <td>CA</td>\n",
       "      <td>orange</td>\n",
       "      <td>santa ana</td>\n",
       "      <td>650 s grand ave ste 104</td>\n",
       "      <td>92705</td>\n",
       "      <td>dbusa</td>\n",
       "    </tr>\n",
       "    <tr>\n",
       "      <th>38513</th>\n",
       "      <td>__splink__input_table_0-__-11132541471303</td>\n",
       "      <td>11140024408838</td>\n",
       "      <td>CA</td>\n",
       "      <td>san diego</td>\n",
       "      <td>la mesa</td>\n",
       "      <td>8750 mellmanor dr apt 25</td>\n",
       "      <td>91942</td>\n",
       "      <td>dbusa</td>\n",
       "    </tr>\n",
       "    <tr>\n",
       "      <th>34195</th>\n",
       "      <td>__splink__input_table_0-__-11132541471303</td>\n",
       "      <td>11132543947198</td>\n",
       "      <td>CA</td>\n",
       "      <td>nevada</td>\n",
       "      <td>nevada</td>\n",
       "      <td>201 church st ste 1</td>\n",
       "      <td>95959</td>\n",
       "      <td>dbusa</td>\n",
       "    </tr>\n",
       "    <tr>\n",
       "      <th>34835</th>\n",
       "      <td>__splink__input_table_0-__-11132541471303</td>\n",
       "      <td>11140009558419</td>\n",
       "      <td>CA</td>\n",
       "      <td>orange</td>\n",
       "      <td>irvine</td>\n",
       "      <td>18881 von karman ave ste 920</td>\n",
       "      <td>92612</td>\n",
       "      <td>dbusa</td>\n",
       "    </tr>\n",
       "    <tr>\n",
       "      <th>40226</th>\n",
       "      <td>__splink__input_table_0-__-11132541471303</td>\n",
       "      <td>11132549846949</td>\n",
       "      <td>CA</td>\n",
       "      <td>san joaquin</td>\n",
       "      <td>stockton</td>\n",
       "      <td>2300 pacific ave</td>\n",
       "      <td>95204</td>\n",
       "      <td>dbusa</td>\n",
       "    </tr>\n",
       "    <tr>\n",
       "      <th>4848</th>\n",
       "      <td>__splink__input_table_0-__-11132541471303</td>\n",
       "      <td>dbcdd644-b853-59f0-bdda-d486b06ac6d3</td>\n",
       "      <td>CA</td>\n",
       "      <td>sonoma</td>\n",
       "      <td>petaluma</td>\n",
       "      <td>1301 southpoint blvd</td>\n",
       "      <td>94954</td>\n",
       "      <td>reonomy</td>\n",
       "    </tr>\n",
       "    <tr>\n",
       "      <th>28780</th>\n",
       "      <td>__splink__input_table_0-__-11132541471303</td>\n",
       "      <td>11132550528150</td>\n",
       "      <td>CA</td>\n",
       "      <td>fresno</td>\n",
       "      <td>fresno</td>\n",
       "      <td>5711 n 1st st</td>\n",
       "      <td>93710</td>\n",
       "      <td>dbusa</td>\n",
       "    </tr>\n",
       "    <tr>\n",
       "      <th>33229</th>\n",
       "      <td>__splink__input_table_0-__-11132541471303</td>\n",
       "      <td>11132574077579</td>\n",
       "      <td>CA</td>\n",
       "      <td>los angeles</td>\n",
       "      <td>tarzana</td>\n",
       "      <td>18321 ventura blvd ste 780</td>\n",
       "      <td>91356</td>\n",
       "      <td>dbusa</td>\n",
       "    </tr>\n",
       "    <tr>\n",
       "      <th>30660</th>\n",
       "      <td>__splink__input_table_0-__-11132541471303</td>\n",
       "      <td>11140031643902</td>\n",
       "      <td>CA</td>\n",
       "      <td>los angeles</td>\n",
       "      <td>long beach</td>\n",
       "      <td>4720 e 2nd st ste 2</td>\n",
       "      <td>90803</td>\n",
       "      <td>dbusa</td>\n",
       "    </tr>\n",
       "    <tr>\n",
       "      <th>12795</th>\n",
       "      <td>__splink__input_table_0-__-11132541471303</td>\n",
       "      <td>1d7020ff-35a9-5bdb-be73-835d9871d164</td>\n",
       "      <td>CA</td>\n",
       "      <td>san luis obispo</td>\n",
       "      <td>atascadero</td>\n",
       "      <td>6955 el camino real</td>\n",
       "      <td>93422</td>\n",
       "      <td>reonomy</td>\n",
       "    </tr>\n",
       "  </tbody>\n",
       "</table>\n",
       "</div>"
      ],
      "text/plain": [
       "                                      cluster_id  \\\n",
       "35879  __splink__input_table_0-__-11132541471303   \n",
       "38513  __splink__input_table_0-__-11132541471303   \n",
       "34195  __splink__input_table_0-__-11132541471303   \n",
       "34835  __splink__input_table_0-__-11132541471303   \n",
       "40226  __splink__input_table_0-__-11132541471303   \n",
       "4848   __splink__input_table_0-__-11132541471303   \n",
       "28780  __splink__input_table_0-__-11132541471303   \n",
       "33229  __splink__input_table_0-__-11132541471303   \n",
       "30660  __splink__input_table_0-__-11132541471303   \n",
       "12795  __splink__input_table_0-__-11132541471303   \n",
       "\n",
       "                                property_id state           county  \\\n",
       "35879                        11132549603855    CA           orange   \n",
       "38513                        11140024408838    CA        san diego   \n",
       "34195                        11132543947198    CA           nevada   \n",
       "34835                        11140009558419    CA           orange   \n",
       "40226                        11132549846949    CA      san joaquin   \n",
       "4848   dbcdd644-b853-59f0-bdda-d486b06ac6d3    CA           sonoma   \n",
       "28780                        11132550528150    CA           fresno   \n",
       "33229                        11132574077579    CA      los angeles   \n",
       "30660                        11140031643902    CA      los angeles   \n",
       "12795  1d7020ff-35a9-5bdb-be73-835d9871d164    CA  san luis obispo   \n",
       "\n",
       "             city                       address zip_code source_dataset  \n",
       "35879   santa ana       650 s grand ave ste 104    92705          dbusa  \n",
       "38513     la mesa      8750 mellmanor dr apt 25    91942          dbusa  \n",
       "34195      nevada           201 church st ste 1    95959          dbusa  \n",
       "34835      irvine  18881 von karman ave ste 920    92612          dbusa  \n",
       "40226    stockton              2300 pacific ave    95204          dbusa  \n",
       "4848     petaluma          1301 southpoint blvd    94954        reonomy  \n",
       "28780      fresno                 5711 n 1st st    93710          dbusa  \n",
       "33229     tarzana    18321 ventura blvd ste 780    91356          dbusa  \n",
       "30660  long beach           4720 e 2nd st ste 2    90803          dbusa  \n",
       "12795  atascadero           6955 el camino real    93422        reonomy  "
      ]
     },
     "execution_count": 37,
     "metadata": {},
     "output_type": "execute_result"
    }
   ],
   "source": [
    "clusters_df[clusters_df[\"cluster_id\"] == \"__splink__input_table_0-__-11132541471303\"].sample(10)"
   ]
  },
  {
   "cell_type": "markdown",
   "metadata": {},
   "source": [
    "After sampling from the dataset we can find that the biggest cluster by size consist of counties and cities in Californaia state so the model is perfectly blocked in state "
   ]
  },
  {
   "cell_type": "markdown",
   "metadata": {},
   "source": [
    "## Final Editiing in the clusers dataframe "
   ]
  },
  {
   "cell_type": "code",
   "execution_count": 31,
   "metadata": {},
   "outputs": [],
   "source": [
    "clusters_df[\"source_dataset\"] = clusters_df[\"source_dataset\"].replace({\n",
    "    \"__splink__input_table_0\":\"dbusa\",\n",
    "    '__splink__input_table_1' : \"reonomy\"\n",
    "\n",
    "})"
   ]
  },
  {
   "cell_type": "code",
   "execution_count": 38,
   "metadata": {},
   "outputs": [],
   "source": [
    "clusters_df.to_csv(\"usa_peoperties.csv\" , index=False , header=True)"
   ]
  },
  {
   "cell_type": "code",
   "execution_count": null,
   "metadata": {},
   "outputs": [],
   "source": []
  }
 ],
 "metadata": {
  "kernelspec": {
   "display_name": "Python 3",
   "language": "python",
   "name": "python3"
  },
  "language_info": {
   "codemirror_mode": {
    "name": "ipython",
    "version": 3
   },
   "file_extension": ".py",
   "mimetype": "text/x-python",
   "name": "python",
   "nbconvert_exporter": "python",
   "pygments_lexer": "ipython3",
   "version": "3.12.0"
  }
 },
 "nbformat": 4,
 "nbformat_minor": 2
}
